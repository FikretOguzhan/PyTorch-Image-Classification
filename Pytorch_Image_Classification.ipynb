{
  "nbformat": 4,
  "nbformat_minor": 0,
  "metadata": {
    "colab": {
      "provenance": [],
      "gpuType": "T4",
      "authorship_tag": "ABX9TyPFSxFAMF+cqhTZmEPT1PNl"
    },
    "kernelspec": {
      "name": "python3",
      "display_name": "Python 3"
    },
    "language_info": {
      "name": "python"
    },
    "accelerator": "GPU"
  },
  "cells": [
    {
      "cell_type": "markdown",
      "source": [
        "## Introduction\n",
        "PyTorch is an open-source machine learning library for Python that provides a flexible and dynamic computational graph. It is widely used for deep learning and artificial intelligence research and development. It is one of the latest deep learning frameworks and was developed by the team at Facebook and open sourced on GitHub in 2017.\n",
        "\n",
        "#### Why we use PyTorch\n",
        "Simplicity and Ease of Use: PyTorch is known for its simplicity and ease of use, which makes it a popular choice among developers.\n",
        "Dynamic Computational Graph: PyTorch uses dynamic computational graphs, which allows for flexibility in building and modifying models on the fly, which is beneficial for complex architectures.\n",
        "Pythonic and Intuitive Syntax: PyTorch adopts a Pythonic programming style, making it easy to understand and use. Its syntax closely resembles standard Python code, which reduces the learning curve and simplifies rapid development.\n",
        "#### Difference Between PyTorch and TensorFlow\n",
        "PyTorch and TensorFlow are the two most popular deep learning libraries. They are both open source and have strong communities. However it can be said that they differ significantly at 2 different points.\n",
        "\n",
        " - Computational Graph: Pytorch uses a dynamic computational graph which means that the graph is built on the fly as operations are executed. This can make it more intuitive for debugging and experimentation. However TensorFlow uses a static computational graph. his means that the structure of the computational graph in TensorFlow is fixed when the graph is defined, whereas in PyTorch, the graph can be changed dynamically as the program runs.\n",
        " - API: Both PyTorch and TensorFlow offer useful abstractions that ease the development of models by reducing boilerplate code. However, they differ in their design philosophy, syntax, and features. PyTorch has a more “pythonic” approach and is object-oriented, while TensorFlow offers a variety of options. TensorFlow offers better visualization, which allows developers to debug better and track the training process. PyTorch, however, provides only limited visualization. TensorFlow excels in deploying trained models to production, thanks to the TensorFlow Serving framework. PyTorch does not offer such a framework, so developers need to use Django or Flask as a back-end server.\n",
        "In conclusion, the choice between PyTorch and TensorFlow depends on the specific needs of your project. If you require a more pythonic approach and prefer a dynamic computational graph, PyTorch might be a better choice. If you need better visualization tools, production-ready deployment options, or a larger community and ecosystem, TensorFlow might be more suitable.\n"
      ],
      "metadata": {
        "id": "ZqMsrbmW-OEB"
      }
    },
    {
      "cell_type": "code",
      "execution_count": null,
      "metadata": {
        "id": "dCAUS_M-czib"
      },
      "outputs": [],
      "source": [
        "from google.colab import drive\n",
        "drive.mount(\"/content/drive\")\n",
        "\n",
        "import math\n",
        "import time\n",
        "\n",
        "!unrar x \"/content/drive/MyDrive/raw_data (1).rar\"\n",
        "\n",
        "raw_data_dir = \"/content/raw_data\"\n",
        "print(os.listdir(raw_data_dir))\n",
        "\n",
        "categories = os.listdir(raw_data_dir)\n",
        "num_of_categories = len(categories)\n",
        "print(\"Counts of Images = {}\".format(num_of_categories))\n",
        "\n",
        "os.mkdir(\"data\")\n",
        "os.mkdir(\"premolar\")\n",
        "os.mkdir(\"molar\")\n",
        "os.mkdir(\"incisor\")\n",
        "os.mkdir(\"canine\")\n",
        "\n",
        "for i in categories:\n",
        "  if \"premolar\" in i:\n",
        "    shutil.move(\"/content/raw_data/\" + i, \"/content/premolar\")\n",
        "  elif \"molar\" in i:\n",
        "    shutil.move(\"/content/raw_data/\" + i, \"/content/molar\")\n",
        "  elif \"incisor\" in i:\n",
        "    shutil.move(\"/content/raw_data/\" + i, \"/content/incisor\")\n",
        "  elif \"canine\" in i:\n",
        "    shutil.move(\"/content/raw_data/\" + i, \"/content/canine\")\n",
        "\n",
        "print(\"Count of Premolar: {}\".format(len(os.listdir(\"premolar\"))))\n",
        "print(\"Count of Molar: {}\".format(len(os.listdir(\"molar\"))))\n",
        "print(\"Count of Incisor: {}\".format(len(os.listdir(\"incisor\"))))\n",
        "print(\"Count of Canine: {}\".format(len(os.listdir(\"canine\"))))\n"
      ]
    },
    {
      "cell_type": "markdown",
      "source": [
        "#### Step by Step Coding\n",
        "The dataset we will use will consist of 4 different classes. These are canine, molar, premolar and incisor respectively. Our expectation from the model we will create is to classify these teeth correctly. There are a total of 10876 images in our dataset. We will allocate 7613 of them for train. the rest will be divided into two and we will create the test and validation parts.\n",
        "\n",
        "Importing the libraries we will use:"
      ],
      "metadata": {
        "id": "OXzr7cP6-nk6"
      }
    },
    {
      "cell_type": "code",
      "source": [
        "import torch\n",
        "import torchvision.transforms as transforms\n",
        "from torch.utils.data import Subset\n",
        "import numpy as np\n",
        "import pandas as pd\n",
        "import torchvision\n",
        "import torch.nn as nn\n",
        "import torch.optim as optim\n",
        "from torchvision import datasets, models, transforms\n",
        "from torch.utils.data.sampler import SubsetRandomSampler\n",
        "from torch.utils.data import DataLoader, sampler, random_split\n",
        "import matplotlib.pyplot as plt\n",
        "import time\n",
        "import copy\n",
        "from random import shuffle\n",
        "import torch.nn.functional as F\n",
        "import tqdm.notebook as tqdm\n",
        "import sklearn\n",
        "from sklearn.metrics import accuracy_score, cohen_kappa_score\n",
        "from sklearn.metrics import classification_report\n",
        "from PIL import Image\n",
        "import cv2\n",
        "import os\n",
        "import shutil\n",
        "import glob\n",
        "from torch.optim import Adam\n",
        "from torch.autograd import Variable\n",
        "import pathlib"
      ],
      "metadata": {
        "id": "_oCQNZBhdH-J"
      },
      "execution_count": null,
      "outputs": []
    },
    {
      "cell_type": "code",
      "source": [
        "data_dir = \"/content/data\"\n",
        "categories = os.listdir(data_dir)\n",
        "num_of_categories = len(categories)\n",
        "print(num_of_categories)\n",
        "\n",
        "image_count_graph = pd.DataFrame(\n",
        "    index = [i for i in categories],\n",
        "    data = [len(os.listdir(data_dir + \"/\" + name))\n",
        "              for name in categories],\n",
        "    columns = [\"number_of_images\"]\n",
        ")\n",
        "image_count_graph\n",
        "\n",
        "\n",
        "fig = image_count_graph.plot(kind = \"bar\", figsize = (12,8))\n",
        "mean_of_pictures = image_count_graph[\"number_of_images\"].mean()\n",
        "fig.axhline(mean_of_pictures, color = \"r\", linestyle = \":\", label = \"Mean of Images\")\n",
        "plt.title(\"Image Count by Class\", fontsize = 20)\n",
        "plt.show()\n",
        "print(\"Mean Value of Image Numbers :\", mean_of_pictures)"
      ],
      "metadata": {
        "colab": {
          "base_uri": "https://localhost:8080/",
          "height": 791
        },
        "id": "h51T7ryJdxeQ",
        "outputId": "830718ef-b578-4e51-d528-d5b678b838f9"
      },
      "execution_count": null,
      "outputs": [
        {
          "output_type": "stream",
          "name": "stdout",
          "text": [
            "4\n"
          ]
        },
        {
          "output_type": "display_data",
          "data": {
            "text/plain": [
              "<Figure size 1200x800 with 1 Axes>"
            ],
            "image/png": "[encoded data removed]"
          },
          "metadata": {}
        },
        {
          "output_type": "stream",
          "name": "stdout",
          "text": [
            "Mean Value of Image Numbers : 2719.0\n"
          ]
        }
      ]
    },
    {
      "cell_type": "markdown",
      "source": [
        "Checking if CUDA(Compute Unified Device Architecture) is available for use with PyTorch. CUDA is a parallel computing platform and API model created by NVIDIA. It allows software developers to use a CUDA-enabled graphics processing unit (GPU) for general purpose processing."
      ],
      "metadata": {
        "id": "a6Hmv8QE-xAl"
      }
    },
    {
      "cell_type": "code",
      "source": [
        "if torch.cuda.is_available():\n",
        "    device=torch.device(\"cuda:0\")\n",
        "    print(\"Training on GPU\")\n",
        "else:\n",
        "    device = torch.device(\"cpu\")\n",
        "    print(\"Training on CPU\")"
      ],
      "metadata": {
        "colab": {
          "base_uri": "https://localhost:8080/"
        },
        "id": "JNxDXv-hd0MC",
        "outputId": "8483027a-26b2-4a79-a76d-de10a4730e57"
      },
      "execution_count": null,
      "outputs": [
        {
          "output_type": "stream",
          "name": "stdout",
          "text": [
            "Training on GPU\n"
          ]
        }
      ]
    },
    {
      "cell_type": "markdown",
      "source": [
        "Now it’s time for data transform. Here we will add more than one transformation. These are RandomResizedCrop, RandomRotation, ColorJitter, RandomHorizontalFlip, CenterCrop, ToTensor and Normalize. The reason we chose size 224 in CentreCrop is that we want it to comply with ImageNet standards. Likewise, Normalise values have been created accordingly. However, you can change the other transforms as you wish and observe the effect on the model success."
      ],
      "metadata": {
        "id": "b5fsqak3-0AU"
      }
    },
    {
      "cell_type": "code",
      "source": [
        "img_transforms = {\n",
        "    \"train\":\n",
        "    transforms.Compose([\n",
        "        transforms.RandomResizedCrop(size = 256, scale = (0.8, 1.0)),\n",
        "        transforms.RandomRotation(degrees = 15),\n",
        "        transforms.ColorJitter(),\n",
        "        transforms.RandomHorizontalFlip(),\n",
        "        transforms.CenterCrop(size = 224),\n",
        "        transforms.ToTensor(),\n",
        "        transforms.Normalize([0.485, 0.456, 0.406],\n",
        "                             [0.229, 0.224, 0.225])\n",
        "    ]),\n",
        "    \"test\":\n",
        "    transforms.Compose([\n",
        "        transforms.Resize(size = 256),\n",
        "        transforms.CenterCrop(size = 224),\n",
        "        transforms.ToTensor(),\n",
        "        transforms.Normalize([0.485, 0.456, 0.406],\n",
        "                             [0.229, 0.224, 0.225])\n",
        "    ])\n",
        "}"
      ],
      "metadata": {
        "id": "SfFdZRIjd2pN"
      },
      "execution_count": null,
      "outputs": []
    },
    {
      "cell_type": "markdown",
      "source": [
        "Now we need to split image dataset training, validation, and testing sets, apply transformations to those sets, and then load them into PyTorch DataLoaders for use in training a model. Each stage is described with a comment line."
      ],
      "metadata": {
        "id": "IiIQtRgP-7Dk"
      }
    },
    {
      "cell_type": "code",
      "source": [
        "#Loading data from the directory and applying the transform.\n",
        "data = datasets.ImageFolder(root = \"/content/data\", transform = img_transforms[\"train\"])\n",
        "\n",
        "#Calculating the lengths of the training, validation and test sets.\n",
        "#Splitting the dataset into 70% training, 15% validation, and 15% test data.\n",
        "train_data_len = int(len(data)*0.7)\n",
        "valid_data_len = int((len(data) - train_data_len)/2)\n",
        "test_data_len = int(len(data) - train_data_len - valid_data_len)\n",
        "\n",
        "print(\"Train Data Length :\", train_data_len)\n",
        "print(\"Validation Data Length :\", valid_data_len)\n",
        "print(\"Test Data Length :\", test_data_len)\n",
        "\n",
        "#Creating train, validation and test data randomly.\n",
        "train_data, val_data, test_data = random_split(data, [train_data_len, valid_data_len, test_data_len])\n",
        "\n",
        "#Applying the specified transformations to the training, validation, and test datasets.\n",
        "train_data.dataset.transform = img_transforms['train']\n",
        "val_data.dataset.transform = img_transforms['test']\n",
        "test_data.dataset.transform = img_transforms['test']\n",
        "\n",
        "print(\"Length of train data: \", len(train_data), \"\\n\",\n",
        "      \"Length of val data:\",  len(val_data), \"\\n\",\n",
        "      \"Length of test data:\", len(test_data))\n",
        "\n",
        "#Creating data loaders for the training, validation, and test datasets. The DataLoader class from torch.utils.data is used to load the data in batches of size batch, and the data is shuffled for each epoch during training.\n",
        "batch = 32\n",
        "train_loader = DataLoader(dataset = train_data, batch_size=batch, shuffle=True)\n",
        "val_loader = DataLoader(dataset = val_data, batch_size=batch, shuffle=True)\n",
        "test_loader = DataLoader(dataset = test_data, batch_size=batch, shuffle=True)\n",
        "\n",
        "#Creating dictionaries for the data loaders and the sizes of the training and validation datasets.\n",
        "dataloaders = {\"train\":train_loader, \"val\":val_loader}\n",
        "data_sizes = {x: len(dataloaders[x].sampler) for x in ['train','val']}\n",
        "\n",
        "#An iterator for the training data loader and get the first batch of features and labels.\n",
        "trainiter = iter(train_loader)\n",
        "features, labels = next(trainiter)\n",
        "\n",
        "print(features.shape, labels.shape)\n",
        "print(data_sizes)"
      ],
      "metadata": {
        "colab": {
          "base_uri": "https://localhost:8080/"
        },
        "id": "ncbLXx9fd5CA",
        "outputId": "f03f0fcd-655a-484b-be8e-a5e345aa98b9"
      },
      "execution_count": null,
      "outputs": [
        {
          "output_type": "stream",
          "name": "stdout",
          "text": [
            "Train Data Length : 7613\n",
            "Validation Data Length : 1631\n",
            "Test Data Length : 1632\n",
            "Length of train data:  7613 \n",
            " Length of val data: 1631 \n",
            " Length of test data: 1632\n",
            "torch.Size([32, 3, 224, 224]) torch.Size([32])\n",
            "{'train': 7613, 'val': 1631}\n"
          ]
        }
      ]
    },
    {
      "cell_type": "markdown",
      "source": [
        "#### Basic CNN\n",
        "First, we will use a CNN model that we will create from scratch in the classification task and analyse the results. In the comment lines of the code, the new shape after each operation is explained. In addition, let’s look at what we do in each layer one by one.\n",
        "\n",
        " - Convolutional Layer 1 (conv1): This layer takes an input with 3 channels (corresponding to the RGB color channels of the input image) and applies a convolution operation with 12 filters, each of size 3x3. The stride is 1 and padding is 1, which means the convolution operation will be applied to all pixels in the input, and the output will have the same width and height as the input.\n",
        " - Batch Normalization Layer 1 (bn1): This layer normalizes the output from the first convolutional layer. It helps in improving the performance of the network by reducing the internal covariate shift, which is a change in the distribution of layer inputs.\n",
        " - ReLU Activation Layer 1 (relu1): This layer applies the Rectified Linear Unit (ReLU) activation function to the output from the batch normalization layer. The ReLU function helps to introduce non-linearity into the network.\n",
        " - Max Pooling Layer (pool): This layer reduces the spatial dimensions (width and height) of the input by taking the maximum value over a 2x2 window. This helps to reduce the number of parameters in the network and control overfitting.\n",
        " - Convolutional Layer 2 (conv2): This layer applies a convolution operation with 20 filters, each of size 3x3, to the output from the max pooling layer. The stride is 1 and padding is 1.\n",
        " - ReLU Activation Layer 2 (relu2): This layer applies the ReLU activation function to the output from the second convolutional layer.\n",
        " - Convolutional Layer 3 (conv3): This layer applies a convolution operation with 32 filters, each of size 3x3, to the output from the ReLU activation layer of the second convolutional layer.\n",
        " - Batch Normalization Layer 3 (bn3): This layer normalizes the output from the third convolutional layer.\n",
        " - ReLU Activation Layer 3 (relu3): This layer applies the ReLU activation function to the output from the batch normalization layer of the third convolutional layer.\n",
        " - Fully Connected Layer 1 (fc1): This layer flattens the output from the ReLU activation layer of the third convolutional layer into a 1D tensor and applies a linear transformation. It has 120 output features.\n",
        " - Fully Connected Layer 2 (fc2): This layer applies a linear transformation to the output from the first fully connected layer. The number of output features is equal to the number of classes in the classification task.\n",
        "The forward function defines the sequence in which these layers are applied to the input. The output of each layer is passed as the input to the next layer. The output of the second fully connected layer is the final output of the network."
      ],
      "metadata": {
        "id": "m3cK13J__XuL"
      }
    },
    {
      "cell_type": "code",
      "source": [
        "class ConvNet(nn.Module):\n",
        "  def __init__(self, num_classes = 4):\n",
        "    super(ConvNet, self).__init__()\n",
        "\n",
        "    self.conv1 = nn.Conv2d(in_channels = 3, out_channels = 12, kernel_size=3, stride = 1, padding = 1)\n",
        "    #Shape = (32, 12, 224, 224)\n",
        "    self.bn1 = nn.BatchNorm2d(num_features = 12)\n",
        "    #Shape = (32, 12, 224, 224)\n",
        "    self.relu1 = nn.ReLU()\n",
        "    #Shape = (32, 12, 224, 224)\n",
        "    self.pool = nn.MaxPool2d(kernel_size = 2)\n",
        "    #Reduce the image size be factor 2\n",
        "    #Shape = (32, 12, 112, 112)\n",
        "    self.conv2 = nn.Conv2d(in_channels = 12, out_channels = 20, kernel_size = 3, stride = 1, padding = 1)\n",
        "    #Shape = (32, 20, 112, 112)\n",
        "    self.relu2 = nn.ReLU()\n",
        "    #Shape = (32, 20, 112, 112)\n",
        "    self.conv3 = nn.Conv2d(in_channels = 20, out_channels = 32, kernel_size = 3, stride = 1, padding = 1)\n",
        "    self.bn3 = nn.BatchNorm2d(num_features=32)\n",
        "    self.relu3 = nn.ReLU()\n",
        "    #Shape = (32, 32, 112, 112)\n",
        "    self.fc1 = nn.Linear(in_features = 112*112*32, out_features = 120)\n",
        "    self.fc2 = nn.Linear(in_features = 120, out_features = num_classes)\n",
        "\n",
        "  def forward(self, input):\n",
        "    output = self.conv1(input)\n",
        "    output = self.bn1(output)\n",
        "    output = self.relu1(output)\n",
        "    output = self.pool(output)\n",
        "    output = self.conv2(output)\n",
        "    output = self.relu2(output)\n",
        "    output = self.conv3(output)\n",
        "    output = self.bn3(output)\n",
        "    output = self.relu3(output)\n",
        "    #Above output will be in matrix form, with shape (32,32,112, 112)\n",
        "    output = output.view(-1, 112*112*32)\n",
        "    output = F.relu(self.fc1(output))\n",
        "    output = self.fc2(output)\n",
        "    return output\n",
        "\n"
      ],
      "metadata": {
        "id": "_AOdHsCtd7RN"
      },
      "execution_count": null,
      "outputs": []
    },
    {
      "cell_type": "markdown",
      "source": [
        "Let’s define the model and create the hyperparameters. These created hyperparameters will be exactly the same in the models we will use in the future."
      ],
      "metadata": {
        "id": "aLA_ZVff_y8M"
      }
    },
    {
      "cell_type": "code",
      "source": [
        "model = ConvNet(num_classes = 4).to(device)\n",
        "#Optmizer and loss function\n",
        "optimizer=Adam(model.parameters(),lr=0.001,weight_decay=0.0001)\n",
        "loss_function=nn.CrossEntropyLoss()\n",
        "num_epochs = 8"
      ],
      "metadata": {
        "id": "W2EZoLOo_yUq"
      },
      "execution_count": null,
      "outputs": []
    },
    {
      "cell_type": "code",
      "source": [
        "train_count = train_data_len\n",
        "test_count = test_data_len\n",
        "\n",
        "print(train_count, test_count)"
      ],
      "metadata": {
        "colab": {
          "base_uri": "https://localhost:8080/"
        },
        "id": "B_saDlkOeVxH",
        "outputId": "b8b86435-aee3-478e-cfb0-08d1af59669b"
      },
      "execution_count": null,
      "outputs": [
        {
          "output_type": "stream",
          "name": "stdout",
          "text": [
            "7613 1632\n"
          ]
        }
      ]
    },
    {
      "cell_type": "markdown",
      "source": [
        "Model training and saving the best model"
      ],
      "metadata": {
        "id": "2BQqcPNo_3K8"
      }
    },
    {
      "cell_type": "code",
      "source": [
        "best_accuracy = 0.0\n",
        "\n",
        "for epoch in range(num_epochs):\n",
        "    # Evaluation and training on training dataset\n",
        "    model.train()\n",
        "    train_accuracy = 0.0\n",
        "    train_loss = 0.0\n",
        "\n",
        "    for i, (images, labels) in enumerate(train_loader):\n",
        "        images = Variable(images.to(device))\n",
        "        labels = Variable(labels.to(device))\n",
        "\n",
        "        optimizer.zero_grad()\n",
        "\n",
        "        outputs = model(images)\n",
        "        loss = loss_function(outputs, labels)\n",
        "        loss.backward()\n",
        "        optimizer.step()\n",
        "\n",
        "        train_loss += loss.cpu().data * images.size(0)\n",
        "        _, prediction = torch.max(outputs.data, 1)\n",
        "\n",
        "        train_accuracy += int(torch.sum(prediction == labels.data))\n",
        "\n",
        "    train_accuracy = train_accuracy / train_count\n",
        "    train_loss = train_loss / train_count\n",
        "\n",
        "    # Evaluation on testing dataset\n",
        "    model.eval()\n",
        "\n",
        "    test_accuracy = 0.0\n",
        "    for i, (images, labels) in enumerate(test_loader):\n",
        "        images = Variable(images.to(device))\n",
        "        labels = Variable(labels.to(device))\n",
        "\n",
        "        outputs = model(images)\n",
        "        _, prediction = torch.max(outputs.data, 1)\n",
        "        test_accuracy += int(torch.sum(prediction == labels.data))\n",
        "\n",
        "    test_accuracy = test_accuracy / test_count\n",
        "\n",
        "    print('Epoch: ' + str(epoch) + ' Train Loss: ' + str(train_loss) +\n",
        "          ' Train Accuracy: ' + str(train_accuracy) + ' Test Accuracy: ' + str(test_accuracy))\n",
        "\n",
        "    # Save the best model\n",
        "    if test_accuracy > best_accuracy:\n",
        "        torch.save(model.state_dict(), 'best_checkpoint.model')\n",
        "        best_accuracy = test_accuracy"
      ],
      "metadata": {
        "colab": {
          "base_uri": "https://localhost:8080/"
        },
        "id": "SIm4vP04emo3",
        "outputId": "366e2a4a-7899-4c17-b200-293d26e8fa3b"
      },
      "execution_count": null,
      "outputs": [
        {
          "output_type": "stream",
          "name": "stdout",
          "text": [
            "Epoch: 0 Train Loss: tensor(4.7534) Train Accuracy: 0.44489688690398005 Test Accuracy: 0.4944852941176471\n",
            "Epoch: 1 Train Loss: tensor(1.0115) Train Accuracy: 0.5326415342177854 Test Accuracy: 0.5116421568627451\n",
            "Epoch: 2 Train Loss: tensor(0.9451) Train Accuracy: 0.5640352029423354 Test Accuracy: 0.5306372549019608\n",
            "Epoch: 3 Train Loss: tensor(0.9299) Train Accuracy: 0.5883357414948115 Test Accuracy: 0.59375\n",
            "Epoch: 4 Train Loss: tensor(0.9170) Train Accuracy: 0.5970051228162354 Test Accuracy: 0.48713235294117646\n",
            "Epoch: 5 Train Loss: tensor(0.8904) Train Accuracy: 0.608038880861684 Test Accuracy: 0.5526960784313726\n",
            "Epoch: 6 Train Loss: tensor(0.8323) Train Accuracy: 0.6341783790884015 Test Accuracy: 0.6170343137254902\n",
            "Epoch: 7 Train Loss: tensor(0.8094) Train Accuracy: 0.6582162091159858 Test Accuracy: 0.6200980392156863\n"
          ]
        }
      ]
    },
    {
      "cell_type": "markdown",
      "source": [
        "The CNN model we created obtained 0.62 as the highest validation accuracy after 8 epochs. Not a bad result considering that it is a very basic model. Now let’s try the well-known and frequently used Xception model both with and without transfer learning and see the results."
      ],
      "metadata": {
        "id": "HbR0XcDaAJUv"
      }
    },
    {
      "cell_type": "markdown",
      "source": [
        "### Xception with Transfer Learning"
      ],
      "metadata": {
        "id": "lUTt1ZMq7HFA"
      }
    },
    {
      "cell_type": "code",
      "source": [
        "!pip install timm\n",
        "import torch\n",
        "from torch.autograd import Variable\n",
        "import timm\n",
        "\n",
        "# Assuming train_loader and test_loader are defined\n",
        "\n",
        "# Set device\n",
        "device = torch.device(\"cuda\" if torch.cuda.is_available() else \"cpu\")\n",
        "\n",
        "# Create model and move it to the appropriate device\n",
        "model = timm.create_model('xception', pretrained=True)\n",
        "model = model.to(device)\n",
        "\n",
        "# Define loss function and optimizer\n",
        "loss_function = torch.nn.CrossEntropyLoss()\n",
        "optimizer = torch.optim.Adam(model.parameters(), lr=0.001)\n",
        "\n",
        "# Model training and saving best model\n",
        "best_accuracy = 0.0\n",
        "\n",
        "for epoch in range(num_epochs):\n",
        "    # Evaluation and training on training dataset\n",
        "    model.train()\n",
        "    train_accuracy = 0.0\n",
        "    train_loss = 0.0\n",
        "\n",
        "    for i, (images, labels) in enumerate(train_loader):\n",
        "        images = Variable(images.to(device))\n",
        "        labels = Variable(labels.to(device))\n",
        "\n",
        "        optimizer.zero_grad()\n",
        "\n",
        "        outputs = model(images)\n",
        "        loss = loss_function(outputs, labels)\n",
        "        loss.backward()\n",
        "        optimizer.step()\n",
        "\n",
        "        train_loss += loss.cpu().data * images.size(0)\n",
        "        _, prediction = torch.max(outputs.data, 1)\n",
        "\n",
        "        train_accuracy += int(torch.sum(prediction == labels.data))\n",
        "\n",
        "    train_accuracy = train_accuracy / train_count\n",
        "    train_loss = train_loss / train_count\n",
        "\n",
        "    # Evaluation on testing dataset\n",
        "    model.eval()\n",
        "\n",
        "    test_accuracy = 0.0\n",
        "    for i, (images, labels) in enumerate(test_loader):\n",
        "        images = Variable(images.to(device))\n",
        "        labels = Variable(labels.to(device))\n",
        "\n",
        "        outputs = model(images)\n",
        "        _, prediction = torch.max(outputs.data, 1)\n",
        "        test_accuracy += int(torch.sum(prediction == labels.data))\n",
        "\n",
        "    test_accuracy = test_accuracy / test_count\n",
        "\n",
        "    print('Epoch: ' + str(epoch) + ' Train Loss: ' + str(train_loss) +\n",
        "          ' Train Accuracy: ' + str(train_accuracy) + ' Test Accuracy: ' + str(test_accuracy))\n",
        "\n",
        "    # Save the best model\n",
        "    if test_accuracy > best_accuracy:\n",
        "        torch.save(model.state_dict(), 'best_checkpoint.model')\n",
        "        best_accuracy = test_accuracy"
      ],
      "metadata": {
        "colab": {
          "base_uri": "https://localhost:8080/"
        },
        "id": "a-FsTtj1htUP",
        "outputId": "362f14bf-18a6-4ad4-835d-fb0ddc6d60ae"
      },
      "execution_count": null,
      "outputs": [
        {
          "metadata": {
            "tags": null
          },
          "name": "stdout",
          "output_type": "stream",
          "text": [
            "Collecting timm\n",
            "  Downloading timm-0.9.11-py3-none-any.whl (2.2 MB)\n",
            "\u001b[2K     \u001b[90m━━━━━━━━━━━━━━━━━━━━━━━━━━━━━━━━━━━━━━━━\u001b[0m \u001b[32m2.2/2.2 MB\u001b[0m \u001b[31m11.1 MB/s\u001b[0m eta \u001b[36m0:00:00\u001b[0m\n",
            "\u001b[?25hRequirement already satisfied: torch>=1.7 in /usr/local/lib/python3.10/dist-packages (from timm) (2.1.0+cu118)\n",
            "Requirement already satisfied: torchvision in /usr/local/lib/python3.10/dist-packages (from timm) (0.16.0+cu118)\n",
            "Requirement already satisfied: pyyaml in /usr/local/lib/python3.10/dist-packages (from timm) (6.0.1)\n",
            "Requirement already satisfied: huggingface-hub in /usr/local/lib/python3.10/dist-packages (from timm) (0.19.4)\n",
            "Requirement already satisfied: safetensors in /usr/local/lib/python3.10/dist-packages (from timm) (0.4.0)\n",
            "Requirement already satisfied: filelock in /usr/local/lib/python3.10/dist-packages (from torch>=1.7->timm) (3.13.1)\n",
            "Requirement already satisfied: typing-extensions in /usr/local/lib/python3.10/dist-packages (from torch>=1.7->timm) (4.5.0)\n",
            "Requirement already satisfied: sympy in /usr/local/lib/python3.10/dist-packages (from torch>=1.7->timm) (1.12)\n",
            "Requirement already satisfied: networkx in /usr/local/lib/python3.10/dist-packages (from torch>=1.7->timm) (3.2.1)\n",
            "Requirement already satisfied: jinja2 in /usr/local/lib/python3.10/dist-packages (from torch>=1.7->timm) (3.1.2)\n",
            "Requirement already satisfied: fsspec in /usr/local/lib/python3.10/dist-packages (from torch>=1.7->timm) (2023.6.0)\n",
            "Requirement already satisfied: triton==2.1.0 in /usr/local/lib/python3.10/dist-packages (from torch>=1.7->timm) (2.1.0)\n",
            "Requirement already satisfied: requests in /usr/local/lib/python3.10/dist-packages (from huggingface-hub->timm) (2.31.0)\n",
            "Requirement already satisfied: tqdm>=4.42.1 in /usr/local/lib/python3.10/dist-packages (from huggingface-hub->timm) (4.66.1)\n",
            "Requirement already satisfied: packaging>=20.9 in /usr/local/lib/python3.10/dist-packages (from huggingface-hub->timm) (23.2)\n",
            "Requirement already satisfied: numpy in /usr/local/lib/python3.10/dist-packages (from torchvision->timm) (1.23.5)\n",
            "Requirement already satisfied: pillow!=8.3.*,>=5.3.0 in /usr/local/lib/python3.10/dist-packages (from torchvision->timm) (9.4.0)\n",
            "Requirement already satisfied: MarkupSafe>=2.0 in /usr/local/lib/python3.10/dist-packages (from jinja2->torch>=1.7->timm) (2.1.3)\n",
            "Requirement already satisfied: charset-normalizer<4,>=2 in /usr/local/lib/python3.10/dist-packages (from requests->huggingface-hub->timm) (3.3.2)\n",
            "Requirement already satisfied: idna<4,>=2.5 in /usr/local/lib/python3.10/dist-packages (from requests->huggingface-hub->timm) (3.4)\n",
            "Requirement already satisfied: urllib3<3,>=1.21.1 in /usr/local/lib/python3.10/dist-packages (from requests->huggingface-hub->timm) (2.0.7)\n",
            "Requirement already satisfied: certifi>=2017.4.17 in /usr/local/lib/python3.10/dist-packages (from requests->huggingface-hub->timm) (2023.7.22)\n",
            "Requirement already satisfied: mpmath>=0.19 in /usr/local/lib/python3.10/dist-packages (from sympy->torch>=1.7->timm) (1.3.0)\n",
            "Installing collected packages: timm\n",
            "Successfully installed timm-0.9.11\n"
          ]
        },
        {
          "metadata": {
            "tags": null
          },
          "name": "stderr",
          "output_type": "stream",
          "text": [
            "/usr/local/lib/python3.10/dist-packages/timm/models/_factory.py:117: UserWarning: Mapping deprecated model name xception to current legacy_xception.\n",
            "  model = create_fn(\n",
            "Downloading: \"https://github.com/rwightman/pytorch-image-models/releases/download/v0.1-cadene/xception-43020ad28.pth\" to /root/.cache/torch/hub/checkpoints/xception-43020ad28.pth\n"
          ]
        },
        {
          "output_type": "stream",
          "name": "stdout",
          "text": [
            "Epoch: 0 Train Loss: tensor(0.7809) Train Accuracy: 0.7271771969000395 Test Accuracy: 0.8075980392156863\n",
            "Epoch: 1 Train Loss: tensor(0.4320) Train Accuracy: 0.836201234730067 Test Accuracy: 0.8327205882352942\n",
            "Epoch: 2 Train Loss: tensor(0.3314) Train Accuracy: 0.8787600157625115 Test Accuracy: 0.8382352941176471\n",
            "Epoch: 3 Train Loss: tensor(0.2262) Train Accuracy: 0.918429003021148 Test Accuracy: 0.8363970588235294\n",
            "Epoch: 4 Train Loss: tensor(0.1818) Train Accuracy: 0.9345855773019834 Test Accuracy: 0.8694852941176471\n",
            "Epoch: 5 Train Loss: tensor(0.1617) Train Accuracy: 0.9399711020622619 Test Accuracy: 0.8498774509803921\n",
            "Epoch: 6 Train Loss: tensor(0.1182) Train Accuracy: 0.9612504925784842 Test Accuracy: 0.8462009803921569\n",
            "Epoch: 7 Train Loss: tensor(0.1193) Train Accuracy: 0.956390384867989 Test Accuracy: 0.8449754901960784\n"
          ]
        }
      ]
    },
    {
      "cell_type": "markdown",
      "source": [
        "By saying pretrained = True, we also include transfer learning. Again, we use the same hyperparameters and train the model using the same code we wrote for training above. The highest validation accuracy for this model is 0.87. Now let’s try it without transfer learning."
      ],
      "metadata": {
        "id": "xLlE7Ih4ARE4"
      }
    },
    {
      "cell_type": "markdown",
      "source": [
        "### Xception without Transfer Learning"
      ],
      "metadata": {
        "id": "9oOj54Si7RPL"
      }
    },
    {
      "cell_type": "code",
      "source": [
        "#!pip install timm\n",
        "import torch\n",
        "from torch.autograd import Variable\n",
        "import timm\n",
        "\n",
        "# Assuming train_loader and test_loader are defined\n",
        "\n",
        "# Set device\n",
        "device = torch.device(\"cuda\" if torch.cuda.is_available() else \"cpu\")\n",
        "\n",
        "# Create model and move it to the appropriate device\n",
        "model = timm.create_model('xception', pretrained=False)\n",
        "model = model.to(device)\n",
        "\n",
        "# Define loss function and optimizer\n",
        "loss_function = torch.nn.CrossEntropyLoss()\n",
        "optimizer = torch.optim.Adam(model.parameters(), lr=0.001)\n",
        "\n",
        "# Model training and saving best model\n",
        "best_accuracy = 0.0\n",
        "\n",
        "for epoch in range(num_epochs):\n",
        "    # Evaluation and training on training dataset\n",
        "    model.train()\n",
        "    train_accuracy = 0.0\n",
        "    train_loss = 0.0\n",
        "\n",
        "    for i, (images, labels) in enumerate(train_loader):\n",
        "        images = Variable(images.to(device))\n",
        "        labels = Variable(labels.to(device))\n",
        "\n",
        "        optimizer.zero_grad()\n",
        "\n",
        "        outputs = model(images)\n",
        "        loss = loss_function(outputs, labels)\n",
        "        loss.backward()\n",
        "        optimizer.step()\n",
        "\n",
        "        train_loss += loss.cpu().data * images.size(0)\n",
        "        _, prediction = torch.max(outputs.data, 1)\n",
        "\n",
        "        train_accuracy += int(torch.sum(prediction == labels.data))\n",
        "\n",
        "    train_accuracy = train_accuracy / train_count\n",
        "    train_loss = train_loss / train_count\n",
        "\n",
        "    # Evaluation on testing dataset\n",
        "    model.eval()\n",
        "\n",
        "    test_accuracy = 0.0\n",
        "    for i, (images, labels) in enumerate(test_loader):\n",
        "        images = Variable(images.to(device))\n",
        "        labels = Variable(labels.to(device))\n",
        "\n",
        "        outputs = model(images)\n",
        "        _, prediction = torch.max(outputs.data, 1)\n",
        "        test_accuracy += int(torch.sum(prediction == labels.data))\n",
        "\n",
        "    test_accuracy = test_accuracy / test_count\n",
        "\n",
        "    print('Epoch: ' + str(epoch) + ' Train Loss: ' + str(train_loss) +\n",
        "          ' Train Accuracy: ' + str(train_accuracy) + ' Test Accuracy: ' + str(test_accuracy))\n",
        "\n",
        "    # Save the best model\n",
        "    if test_accuracy > best_accuracy:\n",
        "        torch.save(model.state_dict(), 'best_checkpoint.model')\n",
        "        best_accuracy = test_accuracy"
      ],
      "metadata": {
        "colab": {
          "base_uri": "https://localhost:8080/"
        },
        "id": "1BZhO29Jh4SE",
        "outputId": "ad611a90-9c97-4e6b-c8ca-2b44e7a388c7"
      },
      "execution_count": null,
      "outputs": [
        {
          "output_type": "stream",
          "name": "stdout",
          "text": [
            "Requirement already satisfied: timm in /usr/local/lib/python3.10/dist-packages (0.9.10)\n",
            "Requirement already satisfied: torch>=1.7 in /usr/local/lib/python3.10/dist-packages (from timm) (2.1.0+cu118)\n",
            "Requirement already satisfied: torchvision in /usr/local/lib/python3.10/dist-packages (from timm) (0.16.0+cu118)\n",
            "Requirement already satisfied: pyyaml in /usr/local/lib/python3.10/dist-packages (from timm) (6.0.1)\n",
            "Requirement already satisfied: huggingface-hub in /usr/local/lib/python3.10/dist-packages (from timm) (0.19.0)\n",
            "Requirement already satisfied: safetensors in /usr/local/lib/python3.10/dist-packages (from timm) (0.4.0)\n",
            "Requirement already satisfied: filelock in /usr/local/lib/python3.10/dist-packages (from torch>=1.7->timm) (3.13.1)\n",
            "Requirement already satisfied: typing-extensions in /usr/local/lib/python3.10/dist-packages (from torch>=1.7->timm) (4.5.0)\n",
            "Requirement already satisfied: sympy in /usr/local/lib/python3.10/dist-packages (from torch>=1.7->timm) (1.12)\n",
            "Requirement already satisfied: networkx in /usr/local/lib/python3.10/dist-packages (from torch>=1.7->timm) (3.2.1)\n",
            "Requirement already satisfied: jinja2 in /usr/local/lib/python3.10/dist-packages (from torch>=1.7->timm) (3.1.2)\n",
            "Requirement already satisfied: fsspec in /usr/local/lib/python3.10/dist-packages (from torch>=1.7->timm) (2023.6.0)\n",
            "Requirement already satisfied: triton==2.1.0 in /usr/local/lib/python3.10/dist-packages (from torch>=1.7->timm) (2.1.0)\n",
            "Requirement already satisfied: requests in /usr/local/lib/python3.10/dist-packages (from huggingface-hub->timm) (2.31.0)\n",
            "Requirement already satisfied: tqdm>=4.42.1 in /usr/local/lib/python3.10/dist-packages (from huggingface-hub->timm) (4.66.1)\n",
            "Requirement already satisfied: packaging>=20.9 in /usr/local/lib/python3.10/dist-packages (from huggingface-hub->timm) (23.2)\n",
            "Requirement already satisfied: numpy in /usr/local/lib/python3.10/dist-packages (from torchvision->timm) (1.23.5)\n",
            "Requirement already satisfied: pillow!=8.3.*,>=5.3.0 in /usr/local/lib/python3.10/dist-packages (from torchvision->timm) (9.4.0)\n",
            "Requirement already satisfied: MarkupSafe>=2.0 in /usr/local/lib/python3.10/dist-packages (from jinja2->torch>=1.7->timm) (2.1.3)\n",
            "Requirement already satisfied: charset-normalizer<4,>=2 in /usr/local/lib/python3.10/dist-packages (from requests->huggingface-hub->timm) (3.3.2)\n",
            "Requirement already satisfied: idna<4,>=2.5 in /usr/local/lib/python3.10/dist-packages (from requests->huggingface-hub->timm) (3.4)\n",
            "Requirement already satisfied: urllib3<3,>=1.21.1 in /usr/local/lib/python3.10/dist-packages (from requests->huggingface-hub->timm) (2.0.7)\n",
            "Requirement already satisfied: certifi>=2017.4.17 in /usr/local/lib/python3.10/dist-packages (from requests->huggingface-hub->timm) (2023.7.22)\n",
            "Requirement already satisfied: mpmath>=0.19 in /usr/local/lib/python3.10/dist-packages (from sympy->torch>=1.7->timm) (1.3.0)\n",
            "Epoch: 0 Train Loss: tensor(1.0723) Train Accuracy: 0.5624589517929857 Test Accuracy: 0.6421568627450981\n",
            "Epoch: 1 Train Loss: tensor(0.8644) Train Accuracy: 0.6326021279390516 Test Accuracy: 0.6580882352941176\n",
            "Epoch: 2 Train Loss: tensor(0.7846) Train Accuracy: 0.6689872586365427 Test Accuracy: 0.6868872549019608\n",
            "Epoch: 3 Train Loss: tensor(0.7093) Train Accuracy: 0.7083935373702877 Test Accuracy: 0.7340686274509803\n",
            "Epoch: 4 Train Loss: tensor(0.6504) Train Accuracy: 0.7351898069092342 Test Accuracy: 0.7555147058823529\n",
            "Epoch: 5 Train Loss: tensor(0.5793) Train Accuracy: 0.7626428477604098 Test Accuracy: 0.7763480392156863\n",
            "Epoch: 6 Train Loss: tensor(0.5243) Train Accuracy: 0.7952187048469723 Test Accuracy: 0.7591911764705882\n",
            "Epoch: 7 Train Loss: tensor(0.4592) Train Accuracy: 0.8184684092998817 Test Accuracy: 0.772671568627451\n"
          ]
        }
      ]
    },
    {
      "cell_type": "markdown",
      "source": [
        "At this point, we can clearly see the effect of transfer learning. The highest validation accuracy dropped from 0.87 to 0.77. Let’s apply the same thing we applied to Xception for ResNet50 and take a look at the results."
      ],
      "metadata": {
        "id": "povqHQPFBBY1"
      }
    },
    {
      "cell_type": "markdown",
      "source": [
        "### ResNet50 with Transfer Learning"
      ],
      "metadata": {
        "id": "u7ZsWyZ9DlzH"
      }
    },
    {
      "cell_type": "code",
      "source": [
        "model = models.resnet50(pretrained = True)\n",
        "model = model.to(device)\n",
        "\n",
        "# Define loss function and optimizer\n",
        "loss_function = torch.nn.CrossEntropyLoss()\n",
        "optimizer = torch.optim.Adam(model.parameters(), lr=0.001)\n",
        "\n",
        "# Model training and saving best model\n",
        "best_accuracy = 0.0\n",
        "\n",
        "for epoch in range(num_epochs):\n",
        "    # Evaluation and training on training dataset\n",
        "    model.train()\n",
        "    train_accuracy = 0.0\n",
        "    train_loss = 0.0\n",
        "\n",
        "    for i, (images, labels) in enumerate(train_loader):\n",
        "        images = Variable(images.to(device))\n",
        "        labels = Variable(labels.to(device))\n",
        "\n",
        "        optimizer.zero_grad()\n",
        "\n",
        "        outputs = model(images)\n",
        "        loss = loss_function(outputs, labels)\n",
        "        loss.backward()\n",
        "        optimizer.step()\n",
        "\n",
        "        train_loss += loss.cpu().data * images.size(0)\n",
        "        _, prediction = torch.max(outputs.data, 1)\n",
        "\n",
        "        train_accuracy += int(torch.sum(prediction == labels.data))\n",
        "\n",
        "    train_accuracy = train_accuracy / train_count\n",
        "    train_loss = train_loss / train_count\n",
        "\n",
        "    # Evaluation on testing dataset\n",
        "    model.eval()\n",
        "\n",
        "    test_accuracy = 0.0\n",
        "    for i, (images, labels) in enumerate(test_loader):\n",
        "        images = Variable(images.to(device))\n",
        "        labels = Variable(labels.to(device))\n",
        "\n",
        "        outputs = model(images)\n",
        "        _, prediction = torch.max(outputs.data, 1)\n",
        "        test_accuracy += int(torch.sum(prediction == labels.data))\n",
        "\n",
        "    test_accuracy = test_accuracy / test_count\n",
        "\n",
        "    print('Epoch: ' + str(epoch) + ' Train Loss: ' + str(train_loss) +\n",
        "          ' Train Accuracy: ' + str(train_accuracy) + ' Test Accuracy: ' + str(test_accuracy))\n",
        "\n",
        "    # Save the best model\n",
        "    if test_accuracy > best_accuracy:\n",
        "        torch.save(model.state_dict(), 'best_checkpoint.model')\n",
        "        best_accuracy = test_accuracy\n"
      ],
      "metadata": {
        "colab": {
          "base_uri": "https://localhost:8080/"
        },
        "id": "eJICdtAwCGkP",
        "outputId": "693c1d10-807e-4df5-fe4c-fec35455efc0"
      },
      "execution_count": null,
      "outputs": [
        {
          "output_type": "stream",
          "name": "stderr",
          "text": [
            "/usr/local/lib/python3.10/dist-packages/torchvision/models/_utils.py:208: UserWarning: The parameter 'pretrained' is deprecated since 0.13 and may be removed in the future, please use 'weights' instead.\n",
            "  warnings.warn(\n",
            "/usr/local/lib/python3.10/dist-packages/torchvision/models/_utils.py:223: UserWarning: Arguments other than a weight enum or `None` for 'weights' are deprecated since 0.13 and may be removed in the future. The current behavior is equivalent to passing `weights=ResNet50_Weights.IMAGENET1K_V1`. You can also use `weights=ResNet50_Weights.DEFAULT` to get the most up-to-date weights.\n",
            "  warnings.warn(msg)\n",
            "Downloading: \"https://download.pytorch.org/models/resnet50-0676ba61.pth\" to /root/.cache/torch/hub/checkpoints/resnet50-0676ba61.pth\n",
            "100%|██████████| 97.8M/97.8M [00:00<00:00, 128MB/s]\n"
          ]
        },
        {
          "output_type": "stream",
          "name": "stdout",
          "text": [
            "Epoch: 0 Train Loss: tensor(1.0100) Train Accuracy: 0.6097464862734796 Test Accuracy: 0.6158088235294118\n",
            "Epoch: 1 Train Loss: tensor(0.7474) Train Accuracy: 0.693813214238802 Test Accuracy: 0.6850490196078431\n",
            "Epoch: 2 Train Loss: tensor(0.6487) Train Accuracy: 0.7370287665834756 Test Accuracy: 0.7800245098039216\n",
            "Epoch: 3 Train Loss: tensor(0.5821) Train Accuracy: 0.7730198344936293 Test Accuracy: 0.7610294117647058\n",
            "Epoch: 4 Train Loss: tensor(0.5257) Train Accuracy: 0.7977144358334428 Test Accuracy: 0.7953431372549019\n",
            "Epoch: 5 Train Loss: tensor(0.4701) Train Accuracy: 0.8204387232365691 Test Accuracy: 0.7824754901960784\n",
            "Epoch: 6 Train Loss: tensor(0.4413) Train Accuracy: 0.8314724812820176 Test Accuracy: 0.7996323529411765\n",
            "Epoch: 7 Train Loss: tensor(0.3764) Train Accuracy: 0.8615526073821096 Test Accuracy: 0.8345588235294118\n"
          ]
        }
      ]
    },
    {
      "cell_type": "markdown",
      "source": [
        "The highest validation accuracy obtained using the same hyperparameters was 0.83. The model performed lower than Xception with transfer learning. Finally, let’s train without transfer learning and look at the results."
      ],
      "metadata": {
        "id": "qBshchz2BfjX"
      }
    },
    {
      "cell_type": "code",
      "source": [
        "model = models.resnet50(pretrained = False)\n",
        "model = model.to(device)\n",
        "\n",
        "# Define loss function and optimizer\n",
        "loss_function = torch.nn.CrossEntropyLoss()\n",
        "optimizer = torch.optim.Adam(model.parameters(), lr=0.001)\n",
        "\n",
        "# Model training and saving best model\n",
        "best_accuracy = 0.0\n",
        "\n",
        "for epoch in range(num_epochs):\n",
        "    # Evaluation and training on training dataset\n",
        "    model.train()\n",
        "    train_accuracy = 0.0\n",
        "    train_loss = 0.0\n",
        "\n",
        "    for i, (images, labels) in enumerate(train_loader):\n",
        "        images = Variable(images.to(device))\n",
        "        labels = Variable(labels.to(device))\n",
        "\n",
        "        optimizer.zero_grad()\n",
        "\n",
        "        outputs = model(images)\n",
        "        loss = loss_function(outputs, labels)\n",
        "        loss.backward()\n",
        "        optimizer.step()\n",
        "\n",
        "        train_loss += loss.cpu().data * images.size(0)\n",
        "        _, prediction = torch.max(outputs.data, 1)\n",
        "\n",
        "        train_accuracy += int(torch.sum(prediction == labels.data))\n",
        "\n",
        "    train_accuracy = train_accuracy / train_count\n",
        "    train_loss = train_loss / train_count\n",
        "\n",
        "    # Evaluation on testing dataset\n",
        "    model.eval()\n",
        "\n",
        "    test_accuracy = 0.0\n",
        "    for i, (images, labels) in enumerate(test_loader):\n",
        "        images = Variable(images.to(device))\n",
        "        labels = Variable(labels.to(device))\n",
        "\n",
        "        outputs = model(images)\n",
        "        _, prediction = torch.max(outputs.data, 1)\n",
        "        test_accuracy += int(torch.sum(prediction == labels.data))\n",
        "\n",
        "    test_accuracy = test_accuracy / test_count\n",
        "\n",
        "    print('Epoch: ' + str(epoch) + ' Train Loss: ' + str(train_loss) +\n",
        "          ' Train Accuracy: ' + str(train_accuracy) + ' Test Accuracy: ' + str(test_accuracy))\n",
        "\n",
        "    # Save the best model\n",
        "    if test_accuracy > best_accuracy:\n",
        "        torch.save(model.state_dict(), 'best_checkpoint.model')\n",
        "        best_accuracy = test_accuracy\n"
      ],
      "metadata": {
        "colab": {
          "base_uri": "https://localhost:8080/"
        },
        "id": "XFhfYdpLDkyS",
        "outputId": "4ce2d18f-0889-4099-8760-580c57285be9"
      },
      "execution_count": null,
      "outputs": [
        {
          "output_type": "stream",
          "name": "stderr",
          "text": [
            "/usr/local/lib/python3.10/dist-packages/torchvision/models/_utils.py:208: UserWarning: The parameter 'pretrained' is deprecated since 0.13 and may be removed in the future, please use 'weights' instead.\n",
            "  warnings.warn(\n",
            "/usr/local/lib/python3.10/dist-packages/torchvision/models/_utils.py:223: UserWarning: Arguments other than a weight enum or `None` for 'weights' are deprecated since 0.13 and may be removed in the future. The current behavior is equivalent to passing `weights=None`.\n",
            "  warnings.warn(msg)\n"
          ]
        },
        {
          "output_type": "stream",
          "name": "stdout",
          "text": [
            "Epoch: 0 Train Loss: tensor(1.1364) Train Accuracy: 0.5280441350321818 Test Accuracy: 0.5729166666666666\n",
            "Epoch: 1 Train Loss: tensor(0.9858) Train Accuracy: 0.5804544857480626 Test Accuracy: 0.4497549019607843\n",
            "Epoch: 2 Train Loss: tensor(0.9554) Train Accuracy: 0.5909628267437278 Test Accuracy: 0.5447303921568627\n",
            "Epoch: 3 Train Loss: tensor(0.9006) Train Accuracy: 0.6213056613687115 Test Accuracy: 0.539828431372549\n",
            "Epoch: 4 Train Loss: tensor(0.8761) Train Accuracy: 0.630894522527256 Test Accuracy: 0.6550245098039216\n",
            "Epoch: 5 Train Loss: tensor(0.8488) Train Accuracy: 0.6457375541836332 Test Accuracy: 0.6139705882352942\n",
            "Epoch: 6 Train Loss: tensor(0.7898) Train Accuracy: 0.6655720478129515 Test Accuracy: 0.5949754901960784\n",
            "Epoch: 7 Train Loss: tensor(0.7513) Train Accuracy: 0.6789701825824248 Test Accuracy: 0.6887254901960784\n"
          ]
        }
      ]
    },
    {
      "cell_type": "markdown",
      "source": [
        "ResNet50 performed very badly without Transfer Learning. The highest validation accuracy obtained was 0.68."
      ],
      "metadata": {
        "id": "pt95ksVOBlN6"
      }
    },
    {
      "cell_type": "markdown",
      "source": [
        "We can say that Xception and Resnet models show a very successful performance when transfer learning is applied. Without any fine tuning or any work to increase performance, it is a result that can be called quite sufficient that both of them see above 85%. In addition, it is also noteworthy that the basic cnn model is successful than the transfer learning resnet model. The reasons for this can be listed as follows:\n",
        "\n",
        " - Dataset Suitability: Large and complex models such as ResNet50 usually perform better on a large and diverse dataset. However, sometimes a simple model can give better results on a smaller dataset.\n",
        " - Hyperparameters: The best model architecture for each problem may differ, so building a specific model for a specific problem can sometimes give better results.\n",
        " - Overfitting: Complex models, such as ResNet-50, usually include more parameters, which can increase the risk of overfitting. The simple model can have fewer parameters, which can reduce the risk of overfitting.\n",
        "\n"
      ],
      "metadata": {
        "id": "8IbujcMYBo5A"
      }
    }
  ]
}